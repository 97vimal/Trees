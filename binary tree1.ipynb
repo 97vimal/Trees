{
 "cells": [
  {
   "cell_type": "code",
   "execution_count": null,
   "id": "0db8c211",
   "metadata": {},
   "outputs": [],
   "source": []
  },
  {
   "cell_type": "code",
   "execution_count": 1,
   "id": "f834d8d1",
   "metadata": {},
   "outputs": [
    {
     "name": "stdout",
     "output_type": "stream",
     "text": [
      "10\n",
      "11\n",
      "19\n",
      "20\n",
      "25\n",
      "30\n"
     ]
    }
   ],
   "source": [
    "#Implement Binary tree\n",
    "'''Create a class called Tree and initialize a constructor for passing the root value.\n",
    "Then create a function in the class called insert for taking new nodes as input.\n",
    "Now, the new input node checks with root value. The new input node 11 is less than 20, so it moves towards the left side of 20.\n",
    "Another new input node 25 is greater than 20, so it moves towards the right side of 20.'''\n",
    "class Tree:\n",
    "\n",
    "    def __init__(self, data):\n",
    "\n",
    "        self.left = None\n",
    "        self.right = None\n",
    "        self.data = data\n",
    "\n",
    "    def insert(self, data):\n",
    "        if self.data:\n",
    "            if data < self.data:\n",
    "                if self.left is None:\n",
    "                    self.left = Tree(data)\n",
    "                else:\n",
    "                    self.left.insert(data)\n",
    "            elif data > self.data:\n",
    "                if self.right is None:\n",
    "                    self.right = Tree(data)\n",
    "                else:\n",
    "                    self.right.insert(data)\n",
    "        else:\n",
    "            self.data = data\n",
    "\n",
    "    def getTree(self):\n",
    "        if self.left:\n",
    "            self.left.getTree()\n",
    "        print( self.data),\n",
    "        if self.right:\n",
    "            self.right.getTree()\n",
    "\n",
    "root = Tree(20)\n",
    "root.insert(11)\n",
    "root.insert(25)\n",
    "root.insert(10)\n",
    "root.insert(30)\n",
    "root.insert(19)\n",
    "\n",
    "root.getTree()"
   ]
  },
  {
   "cell_type": "code",
   "execution_count": null,
   "id": "db0a7c38",
   "metadata": {},
   "outputs": [],
   "source": []
  }
 ],
 "metadata": {
  "kernelspec": {
   "display_name": "Python 3 (ipykernel)",
   "language": "python",
   "name": "python3"
  },
  "language_info": {
   "codemirror_mode": {
    "name": "ipython",
    "version": 3
   },
   "file_extension": ".py",
   "mimetype": "text/x-python",
   "name": "python",
   "nbconvert_exporter": "python",
   "pygments_lexer": "ipython3",
   "version": "3.9.7"
  }
 },
 "nbformat": 4,
 "nbformat_minor": 5
}
