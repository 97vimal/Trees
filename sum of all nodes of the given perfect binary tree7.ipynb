{
 "cells": [
  {
   "cell_type": "code",
   "execution_count": null,
   "id": "68eb7172",
   "metadata": {},
   "outputs": [],
   "source": []
  },
  {
   "cell_type": "code",
   "execution_count": 1,
   "id": "ffacefdc",
   "metadata": {},
   "outputs": [
    {
     "name": "stdout",
     "output_type": "stream",
     "text": [
      "30\n"
     ]
    }
   ],
   "source": [
    "#Find sum of all nodes of the given perfect binary tree\n",
    "def SumNodes(l):\n",
    "\t\n",
    "\t# no of leaf nodes\n",
    "\tleafNodeCount = pow(2, l - 1)\n",
    "\n",
    "\t# list of vector to store nodes of all of the levels\n",
    "\tvec = [[] for i in range(l)]\n",
    "\n",
    "\t# store the nodes of last level i.e., the leaf nodes\n",
    "\tfor i in range(1, leafNodeCount + 1):\n",
    "\t\tvec[l - 1].append(i)\n",
    "\n",
    "\t# store nodes of rest of the level by moving in bottom-up manner\n",
    "\tfor i in range(l - 2, -1, -1):\n",
    "\t\tk = 0\n",
    "\n",
    "\t\t# loop to calculate values of parent nodes from the children nodes of lower level\n",
    "\t\twhile (k < len(vec[i + 1]) - 1):\n",
    "\n",
    "\t\t\t# store the value of parent node as Sum of children nodes\n",
    "\t\t\tvec[i].append(vec[i + 1][k] +\n",
    "\t\t\t\t\t\tvec[i + 1][k + 1])\n",
    "\t\t\tk += 2\n",
    "\n",
    "\tSum = 0\n",
    "\n",
    "\t# traverse the list of vector and calculate the Sum\n",
    "\tfor i in range(l):\n",
    "\t\tfor j in range(len(vec[i])):\n",
    "\t\t\tSum += vec[i][j]\n",
    "\n",
    "\treturn Sum\n",
    "\n",
    "# Driver Code\n",
    "if __name__ == '__main__':\n",
    "\tl = 3\n",
    "\n",
    "\tprint(SumNodes(l))\n",
    "\t"
   ]
  },
  {
   "cell_type": "code",
   "execution_count": null,
   "id": "6da92445",
   "metadata": {},
   "outputs": [],
   "source": []
  }
 ],
 "metadata": {
  "kernelspec": {
   "display_name": "Python 3 (ipykernel)",
   "language": "python",
   "name": "python3"
  },
  "language_info": {
   "codemirror_mode": {
    "name": "ipython",
    "version": 3
   },
   "file_extension": ".py",
   "mimetype": "text/x-python",
   "name": "python",
   "nbconvert_exporter": "python",
   "pygments_lexer": "ipython3",
   "version": "3.9.7"
  }
 },
 "nbformat": 4,
 "nbformat_minor": 5
}
