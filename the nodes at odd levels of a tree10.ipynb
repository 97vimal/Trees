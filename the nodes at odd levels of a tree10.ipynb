{
 "cells": [
  {
   "cell_type": "code",
   "execution_count": null,
   "id": "208f621e",
   "metadata": {},
   "outputs": [],
   "source": []
  },
  {
   "cell_type": "code",
   "execution_count": 1,
   "id": "eb3f99be",
   "metadata": {},
   "outputs": [
    {
     "name": "stdout",
     "output_type": "stream",
     "text": [
      "1 4 5 "
     ]
    }
   ],
   "source": [
    "#Print the nodes at odd levels of a tree\n",
    "class newNode:\n",
    "\tdef __init__(self, data):\n",
    "\t\tself.data = data\n",
    "\t\tself.left = self.right = None\n",
    "\t\n",
    "def printOddNodes(root) :\n",
    "        # Base Case\n",
    "\tif (root == None):\n",
    "\t\treturn\n",
    "\n",
    "\t# Create an empty queue for level order traversal\n",
    "\tq = []\n",
    "\n",
    "\t# Enqueue root and initialize level as odd\n",
    "\tq.append(root)\n",
    "\tisOdd = True\n",
    "\n",
    "\twhile (1) :\n",
    "\t\n",
    "\t\t# nodeCount (queue size) indicates number of nodes at current level.\n",
    "\t\tnodeCount = len(q)\n",
    "\t\tif (nodeCount == 0) :\n",
    "\t\t\tbreak\n",
    "\n",
    "\t\t# Dequeue all nodes of current level and Enqueue all nodes of next level\n",
    "\t\twhile (nodeCount > 0):\n",
    "\t\t\n",
    "\t\t\tnode = q[0]\n",
    "\t\t\tif (isOdd):\n",
    "\t\t\t\tprint(node.data, end = \" \")\n",
    "\t\t\tq.pop(0)\n",
    "\t\t\tif (node.left != None) :\n",
    "\t\t\t\tq.append(node.left)\n",
    "\t\t\tif (node.right != None) :\n",
    "\t\t\t\tq.append(node.right)\n",
    "\t\t\tnodeCount -= 1\n",
    "\t\t\t\n",
    "\t\tisOdd = not isOdd\n",
    "\n",
    "# Driver Code\n",
    "if __name__ == '__main__':\n",
    "\troot = newNode(1)\n",
    "\troot.left = newNode(2)\n",
    "\troot.right = newNode(3)\n",
    "\troot.left.left = newNode(4)\n",
    "\troot.left.right = newNode(5)\n",
    "\tprintOddNodes(root)"
   ]
  },
  {
   "cell_type": "code",
   "execution_count": null,
   "id": "a9b433f3",
   "metadata": {},
   "outputs": [],
   "source": []
  }
 ],
 "metadata": {
  "kernelspec": {
   "display_name": "Python 3 (ipykernel)",
   "language": "python",
   "name": "python3"
  },
  "language_info": {
   "codemirror_mode": {
    "name": "ipython",
    "version": 3
   },
   "file_extension": ".py",
   "mimetype": "text/x-python",
   "name": "python",
   "nbconvert_exporter": "python",
   "pygments_lexer": "ipython3",
   "version": "3.9.7"
  }
 },
 "nbformat": 4,
 "nbformat_minor": 5
}
