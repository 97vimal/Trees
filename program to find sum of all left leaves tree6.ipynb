{
 "cells": [
  {
   "cell_type": "code",
   "execution_count": null,
   "id": "2c8aa0ea",
   "metadata": {},
   "outputs": [],
   "source": []
  },
  {
   "cell_type": "code",
   "execution_count": 1,
   "id": "757589e8",
   "metadata": {},
   "outputs": [
    {
     "name": "stdout",
     "output_type": "stream",
     "text": [
      "Sum of left leaves is 78\n"
     ]
    }
   ],
   "source": [
    "# Python program to find sum of all left leaves\n",
    "class Node:\n",
    "\t# Constructor to create a new Node\n",
    "\tdef __init__(self, key):\n",
    "\t\tself.key = key\n",
    "\t\tself.left = None\n",
    "\t\tself.right = None\n",
    "\n",
    "# A utility function to check if a given node is leaf or not\n",
    "def isLeaf(node):\n",
    "\tif node is None:\n",
    "\t\treturn False\n",
    "\tif node.left is None and node.right is None:\n",
    "\t\treturn True\n",
    "\treturn False\n",
    "\n",
    "# This function return sum of all left leaves in a given binary tree\n",
    "def leftLeavesSum(root):\n",
    "\n",
    "\t# Initialize result\n",
    "\tres = 0\n",
    "\t\n",
    "\t# Update result if root is not None\n",
    "\tif root is not None:\n",
    "\n",
    "\t\t# If left of root is None, then add key of left child\n",
    "\t\tif isLeaf(root.left):\n",
    "\t\t\tres += root.left.key\n",
    "\t\telse:\n",
    "\t\t\t# Else recur for left child of root\n",
    "\t\t\tres += leftLeavesSum(root.left)\n",
    "\n",
    "\t\t# Recur for right child of root and update res\n",
    "\t\tres += leftLeavesSum(root.right)\n",
    "\treturn res\n",
    "\n",
    "# Driver program to test above function\n",
    "\n",
    "\n",
    "root = Node(20)\n",
    "root.left = Node(9)\n",
    "root.right = Node(49)\n",
    "root.right.left = Node(23)\t\n",
    "root.right.right = Node(52)\n",
    "root.right.right.left = Node(50)\n",
    "root.left.left = Node(5)\n",
    "root.left.right = Node(12)\n",
    "root.left.right.right = Node(12)\n",
    "print (\"Sum of left leaves is\", leftLeavesSum(root))"
   ]
  },
  {
   "cell_type": "code",
   "execution_count": null,
   "id": "c4e0fcf9",
   "metadata": {},
   "outputs": [],
   "source": []
  }
 ],
 "metadata": {
  "kernelspec": {
   "display_name": "Python 3 (ipykernel)",
   "language": "python",
   "name": "python3"
  },
  "language_info": {
   "codemirror_mode": {
    "name": "ipython",
    "version": 3
   },
   "file_extension": ".py",
   "mimetype": "text/x-python",
   "name": "python",
   "nbconvert_exporter": "python",
   "pygments_lexer": "ipython3",
   "version": "3.9.7"
  }
 },
 "nbformat": 4,
 "nbformat_minor": 5
}
