{
 "cells": [
  {
   "cell_type": "code",
   "execution_count": 2,
   "id": "fd5b9574",
   "metadata": {},
   "outputs": [],
   "source": [
    "#maximum level sum in Binary Tree Print the nodes at odd levels of a tree"
   ]
  },
  {
   "cell_type": "code",
   "execution_count": 3,
   "id": "eb9029db",
   "metadata": {},
   "outputs": [
    {
     "name": "stdout",
     "output_type": "stream",
     "text": [
      "sum of all nodes at 0 level is: 8\n",
      "sum of all nodes at 1 level is: 13\n",
      "sum of all nodes at 2 level is: 21\n",
      "sum of all nodes at 3 level is: 24\n",
      "Maximum sum is: 24\n"
     ]
    }
   ],
   "source": [
    "class Node(object):\n",
    "    def __init__(self,data):\n",
    "        self.left = None\n",
    "        self.right = None\n",
    "        self.val = data\n",
    "        \n",
    "def Level_sum(root,arr,n,level):\n",
    "    if root is None:\n",
    "        return\n",
    "    if (root != None):\n",
    "        #Recursively calling left-subtree while incrementing the level:\n",
    "        Level_sum(root.left,arr,n,(level + 1)) \n",
    "        #adding all nodes values belonging to same level\n",
    "        arr[level] += root.val\n",
    "        #Recursively calling right-subtree while incrementing the level\n",
    "        Level_sum(root.right,arr,n,(level + 1)) \n",
    "        \n",
    "def Height(root):\n",
    "    \n",
    "    #Finding the height of the tree:\n",
    "    #Height of tree = Max(Height(leftsubtree,rightsubtree) + 1)\n",
    "    if root is None:\n",
    "        return 0\n",
    "    lheight = Height(root.left)\n",
    "    rheight = Height(root.right)\n",
    "    return(max(lheight,rheight) + 1)\n",
    "\n",
    "def Insert(root):\n",
    "    root = Node(8)\n",
    "    root.left = Node(3)\n",
    "    root.right = Node(10)\n",
    "    root.left.left = Node(1)\n",
    "    root.left.right = Node(6)\n",
    "    root.right.right = Node(14)\n",
    "    root.left.right.left = Node(4)\n",
    "    root.left.right.right = Node(7)\n",
    "    root.right.right.left = Node(13)\n",
    "    return(root)\n",
    "\n",
    "def main():\n",
    "    root = None\n",
    "    root = Insert(root)\n",
    "    h = Height(root)\n",
    "    arr = [0]*h\n",
    "    n_elements = [0]*h\n",
    "    Level_sum(root,arr,n_elements,0)\n",
    "    count = 0\n",
    "    for i in arr:\n",
    "        print('sum of all nodes at',count,'level is:',i)\n",
    "        count += 1\n",
    "    print('Maximum sum is:',max(arr))\n",
    "\n",
    "if __name__ == \"__main__\":\n",
    "    main()\n"
   ]
  },
  {
   "cell_type": "code",
   "execution_count": null,
   "id": "214f47fc",
   "metadata": {},
   "outputs": [],
   "source": []
  }
 ],
 "metadata": {
  "kernelspec": {
   "display_name": "Python 3 (ipykernel)",
   "language": "python",
   "name": "python3"
  },
  "language_info": {
   "codemirror_mode": {
    "name": "ipython",
    "version": 3
   },
   "file_extension": ".py",
   "mimetype": "text/x-python",
   "name": "python",
   "nbconvert_exporter": "python",
   "pygments_lexer": "ipython3",
   "version": "3.9.7"
  }
 },
 "nbformat": 4,
 "nbformat_minor": 5
}
