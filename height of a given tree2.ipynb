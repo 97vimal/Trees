{
 "cells": [
  {
   "cell_type": "code",
   "execution_count": null,
   "id": "facd2efa",
   "metadata": {},
   "outputs": [],
   "source": []
  },
  {
   "cell_type": "code",
   "execution_count": 2,
   "id": "99f7db4b",
   "metadata": {},
   "outputs": [
    {
     "name": "stdout",
     "output_type": "stream",
     "text": [
      "Height of the binary tree is: 3\n"
     ]
    }
   ],
   "source": [
    "#Find height of a given tree\n",
    "class TreeNode:\n",
    "    def __init__(self, val):\n",
    "        self.val = val\n",
    "        self.left = None\n",
    "        self.right = None\n",
    " \n",
    "def height(root):\n",
    " \n",
    "    # Check if the binary tree is empty\n",
    "    if root is None:\n",
    "        # If TRUE return 0\n",
    "        return 0 \n",
    "    # Recursively call height of each node\n",
    "    left = height(root.left)\n",
    "    right = height(root.right)\n",
    " \n",
    "    # Return max(leftHeight, rightHeight) at each iteration\n",
    "    return max(left, right) + 1\n",
    " \n",
    "# Test the algorithm\n",
    "root = TreeNode(1)\n",
    "root.left = TreeNode(2)\n",
    "root.right = TreeNode(3)\n",
    "root.left.left = TreeNode(4)\n",
    " \n",
    "print(\"Height of the binary tree is: \" + str(height(root)))"
   ]
  },
  {
   "cell_type": "code",
   "execution_count": null,
   "id": "5c902bcd",
   "metadata": {},
   "outputs": [],
   "source": []
  }
 ],
 "metadata": {
  "kernelspec": {
   "display_name": "Python 3 (ipykernel)",
   "language": "python",
   "name": "python3"
  },
  "language_info": {
   "codemirror_mode": {
    "name": "ipython",
    "version": 3
   },
   "file_extension": ".py",
   "mimetype": "text/x-python",
   "name": "python",
   "nbconvert_exporter": "python",
   "pygments_lexer": "ipython3",
   "version": "3.9.7"
  }
 },
 "nbformat": 4,
 "nbformat_minor": 5
}
