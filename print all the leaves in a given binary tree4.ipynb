{
 "cells": [
  {
   "cell_type": "code",
   "execution_count": null,
   "id": "c420f1e7",
   "metadata": {},
   "outputs": [],
   "source": []
  },
  {
   "cell_type": "code",
   "execution_count": null,
   "id": "9e6e5176",
   "metadata": {},
   "outputs": [],
   "source": []
  },
  {
   "cell_type": "code",
   "execution_count": 1,
   "id": "73cc4c92",
   "metadata": {},
   "outputs": [
    {
     "name": "stdout",
     "output_type": "stream",
     "text": [
      "4 6 7 9 10 "
     ]
    }
   ],
   "source": [
    "#Function to print all the leaves in a given binary tree\n",
    "class Node:\n",
    "\n",
    "\tdef __init__(self, data):\n",
    "\t\tself.data = data\n",
    "\t\tself.left = None\n",
    "\t\tself.right = None\n",
    "\n",
    "# Function to print leaf nodes from left to right\n",
    "def printLeafNodes(root: Node) -> None:\n",
    "\n",
    "\t# If node is null, return\n",
    "\tif (not root):\n",
    "\t\treturn\n",
    "\n",
    "\t# If node is leaf node, print its data\n",
    "\tif (not root.left and\n",
    "\t\tnot root.right):\n",
    "\t\tprint(root.data,\n",
    "\t\t\tend = \" \")\n",
    "\t\treturn\n",
    "\n",
    "\t# If left child exists,check for leaf recursively\n",
    "\tif root.left:\n",
    "\t\tprintLeafNodes(root.left)\n",
    "\n",
    "\t# If right child exists,check for leaf recursively\n",
    "\tif root.right:\n",
    "\t\tprintLeafNodes(root.right)\n",
    "\n",
    "# Driver Code\n",
    "if __name__ == \"__main__\":\n",
    "\n",
    "\t\n",
    "\troot = Node(1)\n",
    "\troot.left = Node(2)\n",
    "\troot.right = Node(3)\n",
    "\troot.left.left = Node(4)\n",
    "\troot.right.left = Node(5)\n",
    "\troot.right.right = Node(8)\n",
    "\troot.right.left.left = Node(6)\n",
    "\troot.right.left.right = Node(7)\n",
    "\troot.right.right.left = Node(9)\n",
    "\troot.right.right.right = Node(10)\n",
    "\n",
    "\t# print leaf nodes of the given tree\n",
    "\tprintLeafNodes(root)"
   ]
  },
  {
   "cell_type": "code",
   "execution_count": null,
   "id": "1e6f6d08",
   "metadata": {},
   "outputs": [],
   "source": []
  }
 ],
 "metadata": {
  "kernelspec": {
   "display_name": "Python 3 (ipykernel)",
   "language": "python",
   "name": "python3"
  },
  "language_info": {
   "codemirror_mode": {
    "name": "ipython",
    "version": 3
   },
   "file_extension": ".py",
   "mimetype": "text/x-python",
   "name": "python",
   "nbconvert_exporter": "python",
   "pygments_lexer": "ipython3",
   "version": "3.9.7"
  }
 },
 "nbformat": 4,
 "nbformat_minor": 5
}
